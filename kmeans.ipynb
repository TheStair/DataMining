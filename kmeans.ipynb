{
 "cells": [
  {
   "metadata": {},
   "cell_type": "markdown",
   "source": [
    "# Comp 5130 Project\n",
    "\n",
    "# K-Means Clustering\n",
    "\n",
    "## Authors: Kevin Dong, Maci Hadley, Marshall Nelson\n",
    "\n",
    "### Dr. Yang Zhou\n"
   ],
   "id": "702440266156d1b4"
  },
  {
   "metadata": {},
   "cell_type": "markdown",
   "source": "#### Imports",
   "id": "41028782b631f7eb"
  },
  {
   "metadata": {
    "ExecuteTime": {
     "end_time": "2024-11-12T15:51:33.451306Z",
     "start_time": "2024-11-12T15:51:32.490737Z"
    }
   },
   "cell_type": "code",
   "source": [
    "import sys\n",
    "import numpy as np\n",
    "import matplotlib.pyplot as plt\n",
    "import pandas as pd\n",
    "import random as random\n",
    "\n"
   ],
   "id": "40a8996047eeae16",
   "outputs": [],
   "execution_count": 2
  },
  {
   "metadata": {},
   "cell_type": "markdown",
   "source": [
    "#### Load Dataset  \n",
    "We are using the simple circles dataset from UCIrvine"
   ],
   "id": "24d874d810103a19"
  },
  {
   "metadata": {
    "ExecuteTime": {
     "end_time": "2024-11-12T16:18:29.345336Z",
     "start_time": "2024-11-12T16:18:29.338961Z"
    }
   },
   "cell_type": "code",
   "source": [
    " # Define the file to open\n",
    "file_path = 'circles.txt'\n",
    "\n",
    "# Open the file and read coordinates\n",
    "coordinates = np.loadtxt(file_path, delimiter=',', skiprows=1, usecols=(0, 1))\n",
    "\n",
    "# Print out the list of coordinates\n",
    "# print(\"Points:\", coordinates)"
   ],
   "id": "57bffb224e54fcc4",
   "outputs": [
    {
     "name": "stdout",
     "output_type": "stream",
     "text": [
      "Points: [[  3.15676 116.12252]\n",
      " [ 16.14436  16.8166 ]\n",
      " [100.31212  64.99025]\n",
      " ...\n",
      " [ 81.18879 184.85662]\n",
      " [116.47674 116.45223]\n",
      " [120.84808  75.07245]]\n"
     ]
    }
   ],
   "execution_count": 27
  },
  {
   "metadata": {},
   "cell_type": "markdown",
   "source": [
    "#### Define K-Means Clustering Function\n",
    "Self-Implemented without using an external k-means library\n"
   ],
   "id": "b2d48087b7131fa0"
  },
  {
   "metadata": {
    "ExecuteTime": {
     "end_time": "2024-11-12T16:19:04.832227Z",
     "start_time": "2024-11-12T16:19:04.827426Z"
    }
   },
   "cell_type": "code",
   "source": [
    "def initialize_centroids(data, k):\n",
    "    indices = np.random.choice(len(data), k, replace=False)\n",
    "    centroids = np.array(data[indices])\n",
    "    return centroids\n",
    "\n",
    "def assign_clusters(data, centroids):\n",
    "    # Assign each point to the nearest centroid\n",
    "    clusters = []\n",
    "    for point in data:\n",
    "        distances = np.linalg.norm(point - centroids, axis=1)\n",
    "        nearest_centroid = np.argmin(distances)\n",
    "        clusters.append(nearest_centroid)\n",
    "    return np.array(clusters)\n",
    "\n",
    "def update_centroids(data, clusters, k):\n",
    "    # Calculate new centroids as the mean of assigned points\n",
    "    new_centroids = []\n",
    "    for i in range(k):\n",
    "        cluster_points = data[clusters == i]\n",
    "        if len(cluster_points) > 0:\n",
    "            new_centroids.append(cluster_points.mean(axis=0))\n",
    "        else:\n",
    "            # If a cluster has no points, reinitialize its centroid randomly\n",
    "            new_centroids.append(data[np.random.choice(len(data))])\n",
    "    return np.array(new_centroids)\n",
    "\n",
    "        \n",
    "            "
   ],
   "id": "b0f9d4ce70f3f9cb",
   "outputs": [],
   "execution_count": 31
  },
  {
   "metadata": {},
   "cell_type": "markdown",
   "source": "#### Perform K-Means on the dataset  ",
   "id": "950982155e4fcc6e"
  },
  {
   "metadata": {
    "ExecuteTime": {
     "end_time": "2024-11-12T16:19:16.199919Z",
     "start_time": "2024-11-12T16:19:16.195670Z"
    }
   },
   "cell_type": "code",
   "source": [
    "def kmeans(data, k, max_iters=100, tol=1e-4):\n",
    "    # Initialize centroids\n",
    "    centroids = initialize_centroids(data, k)\n",
    "    for i in range(max_iters):\n",
    "        # Assign clusters\n",
    "        clusters = assign_clusters(data, centroids)\n",
    "        # Update centroids\n",
    "        new_centroids = update_centroids(data, clusters, k)\n",
    "        # Check for convergence\n",
    "        if np.all(np.abs(new_centroids - centroids) < tol):\n",
    "            print(f\"Converged after {i+1} iterations.\")\n",
    "            break\n",
    "        centroids = new_centroids\n",
    "    return clusters, centroids"
   ],
   "id": "e36348b8a83f3689",
   "outputs": [],
   "execution_count": 32
  },
  {
   "metadata": {
    "ExecuteTime": {
     "end_time": "2024-11-12T16:24:36.661617Z",
     "start_time": "2024-11-12T16:24:35.740162Z"
    }
   },
   "cell_type": "code",
   "source": [
    "k = 100\n",
    "clusters, centroids = kmeans(coordinates, k)\n",
    "print(centroids)\n",
    "print(clusters)"
   ],
   "id": "34f64dde1240af15",
   "outputs": [
    {
     "name": "stdout",
     "output_type": "stream",
     "text": [
      "Converged after 15 iterations.\n",
      "[[ 1.59152447e+02  1.79933850e+02]\n",
      " [ 1.82630991e+02  1.61392822e+02]\n",
      " [ 4.02920262e+01  5.44020455e+01]\n",
      " [ 1.40026865e+02  1.31929394e+02]\n",
      " [ 3.96761900e+01  7.96235782e+01]\n",
      " [ 1.79875178e+02  9.99519463e+01]\n",
      " [ 1.79891007e+02  5.36377576e+01]\n",
      " [ 1.16271057e+02  1.17381537e+02]\n",
      " [ 1.36385668e+02  2.23176277e+01]\n",
      " [ 1.36418452e+02  1.01751587e+02]\n",
      " [-9.27741000e-02  1.40244033e+02]\n",
      " [ 4.02858017e+01  1.19580183e+02]\n",
      " [ 1.80302278e+02  8.00208115e+01]\n",
      " [ 4.32199909e+01  9.89102002e+01]\n",
      " [ 9.97575962e+01  2.00270981e+01]\n",
      " [ 2.01760978e+01  1.20058594e+02]\n",
      " [ 6.01548000e-02  5.96413229e+01]\n",
      " [ 6.04726321e+01  7.99657609e+01]\n",
      " [ 1.20283778e+02  1.69903934e+02]\n",
      " [ 2.01402318e+01  3.36777831e+00]\n",
      " [ 1.59541968e+02  6.03387535e+01]\n",
      " [-1.66649000e-01  1.39901100e-01]\n",
      " [ 6.01209191e+01  6.03748878e+01]\n",
      " [ 1.39710069e+02  6.06412753e+01]\n",
      " [ 1.19498603e+02  5.94612926e+01]\n",
      " [ 1.76308668e+02  1.59106212e+02]\n",
      " [ 8.01644809e+01 -4.53388800e-01]\n",
      " [ 1.43242202e+02  2.26032303e+01]\n",
      " [ 3.74427853e+01  1.59961936e+02]\n",
      " [ 3.95975250e+01  1.39550335e+02]\n",
      " [ 1.55913972e+02  1.17228324e+00]\n",
      " [ 9.96604359e+01  4.02729573e+01]\n",
      " [ 1.80001604e+02  1.80217216e+02]\n",
      " [ 6.26705535e+01  1.22447528e+02]\n",
      " [ 1.20029135e+02  4.02930703e+01]\n",
      " [ 2.01311909e+01  9.92958877e+01]\n",
      " [ 8.41767511e+01  1.40114774e+02]\n",
      " [ 3.94707214e+01 -1.59386000e-02]\n",
      " [ 1.59711826e+02  2.02563904e+01]\n",
      " [ 7.97777341e+01  1.59802279e+02]\n",
      " [ 1.35055007e+02 -6.02533846e-01]\n",
      " [ 1.03828523e+02  9.95343883e+01]\n",
      " [ 1.39488269e+02  1.59680333e+01]\n",
      " [ 6.02864061e+01  2.17173400e-01]\n",
      " [ 4.02890706e+01  1.80139897e+02]\n",
      " [ 1.60601550e+02  1.00101476e+02]\n",
      " [ 1.59450153e+02  7.99942468e+01]\n",
      " [ 1.05805895e+02 -2.01403974e-03]\n",
      " [ 1.39746214e+02  3.94783734e+01]\n",
      " [ 8.01294273e+01  9.98038143e+01]\n",
      " [ 2.99789900e-01  4.02626407e+01]\n",
      " [ 1.98824111e+01  1.42772512e+02]\n",
      " [ 5.95134883e+01  1.63464029e+02]\n",
      " [ 2.75747051e+00  9.95581227e+01]\n",
      " [ 2.19101854e+01  3.51883055e+01]\n",
      " [ 3.93822249e+01  2.31886560e+01]\n",
      " [ 6.08061567e+01  1.56812564e+02]\n",
      " [ 3.28342693e+00  1.93548624e+01]\n",
      " [ 8.73842840e+01  1.20472655e+02]\n",
      " [ 6.30819379e+01  1.79995290e+02]\n",
      " [ 5.69746868e+01  1.78780235e+02]\n",
      " [ 1.59885447e+02  1.59984660e+02]\n",
      " [ 3.69463102e+01  1.01355509e+02]\n",
      " [ 1.39526793e+02  1.60530542e+02]\n",
      " [-6.22010000e-03  8.03709901e+01]\n",
      " [ 1.60628881e+02 -4.26276000e+00]\n",
      " [ 1.19669035e+02  1.91518779e+01]\n",
      " [ 8.02931663e+01  7.99691457e+01]\n",
      " [ 7.93029368e+01  3.98180995e+01]\n",
      " [ 1.63407731e+02  2.40688172e+00]\n",
      " [ 6.73162300e-01  1.19478473e+02]\n",
      " [ 2.01331571e+01  1.75504255e+02]\n",
      " [ 6.01446628e+01  1.39923519e+02]\n",
      " [ 9.96952868e+01  1.80228891e+02]\n",
      " [ 5.75705526e+01  1.17758358e+02]\n",
      " [ 1.12910119e+02  1.39889762e+02]\n",
      " [ 1.79819700e+02  6.69873400e-01]\n",
      " [ 1.00145617e+02  8.02516380e+01]\n",
      " [ 6.00622637e+01  9.98856828e+01]\n",
      " [ 1.59652206e+02  4.06438409e+01]\n",
      " [ 1.79676031e+02  2.45442477e+01]\n",
      " [ 5.86800461e+01  3.99298790e+01]\n",
      " [ 7.70105548e+01  1.78654340e+02]\n",
      " [-3.65772805e+00  1.00397401e+02]\n",
      " [ 3.23000000e-03  1.79709410e+02]\n",
      " [ 1.39898877e+02  1.80220157e+02]\n",
      " [ 1.00070643e+02  6.00016144e+01]\n",
      " [ 1.19728429e+02  8.11933134e+01]\n",
      " [ 1.69895541e+02  1.39977608e+02]\n",
      " [ 2.93768221e+00  1.60165728e+02]\n",
      " [ 8.03999646e+01  1.93161865e+01]\n",
      " [ 1.40387145e+02  7.94724911e+01]\n",
      " [ 8.03322332e+01  6.02432432e+01]\n",
      " [ 1.99190103e+01  6.03101508e+01]\n",
      " [ 2.11436034e+01  8.33007700e+01]\n",
      " [ 9.99451808e+01  1.60094690e+02]\n",
      " [ 6.00494321e+01  1.98344564e+01]\n",
      " [ 1.70071529e+02  1.19774021e+02]\n",
      " [ 8.25977304e+01  1.82237609e+02]\n",
      " [ 1.88842821e+01  7.68644974e+01]]\n",
      "[70 57 86 ... 98  7 87]\n"
     ]
    }
   ],
   "execution_count": 36
  },
  {
   "metadata": {},
   "cell_type": "code",
   "outputs": [],
   "execution_count": null,
   "source": "",
   "id": "a4fd5b2f92472a39"
  }
 ],
 "metadata": {
  "kernelspec": {
   "display_name": "Python 3",
   "language": "python",
   "name": "python3"
  },
  "language_info": {
   "codemirror_mode": {
    "name": "ipython",
    "version": 2
   },
   "file_extension": ".py",
   "mimetype": "text/x-python",
   "name": "python",
   "nbconvert_exporter": "python",
   "pygments_lexer": "ipython2",
   "version": "2.7.6"
  }
 },
 "nbformat": 4,
 "nbformat_minor": 5
}
