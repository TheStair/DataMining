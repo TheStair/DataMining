{
 "cells": [
  {
   "metadata": {},
   "cell_type": "markdown",
   "source": [
    "# Comp 5130 Project\n",
    "\n",
    "# K-Means Clustering\n",
    "\n",
    "## Authors: Kevin Dong, Maci Hadley, Marshall Nelson\n",
    "\n",
    "### Dr. Yang Zhou\n"
   ],
   "id": "702440266156d1b4"
  },
  {
   "metadata": {},
   "cell_type": "markdown",
   "source": "#### Imports",
   "id": "41028782b631f7eb"
  },
  {
   "metadata": {
    "ExecuteTime": {
     "end_time": "2024-10-29T19:33:11.538147Z",
     "start_time": "2024-10-29T19:33:09.335420Z"
    }
   },
   "cell_type": "code",
   "source": [
    "import numpy as np\n",
    "import matplotlib.pyplot as plt\n",
    "import pandas as pd\n",
    "import random as random\n",
    "\n",
    "#pip install scikit-learn\n",
    "from sklearn.preprocessing import StandardScaler, LabelEncoder\n",
    "from ucimlrepo import fetch_ucirepo "
   ],
   "id": "40a8996047eeae16",
   "outputs": [],
   "execution_count": 1
  },
  {
   "metadata": {},
   "cell_type": "markdown",
   "source": [
    "#### Load Small Dataset  \n",
    "We are using the abalone dataset from UCIrvine"
   ],
   "id": "24d874d810103a19"
  },
  {
   "metadata": {
    "ExecuteTime": {
     "end_time": "2024-10-29T19:33:16.249438Z",
     "start_time": "2024-10-29T19:33:11.549742Z"
    }
   },
   "cell_type": "code",
   "source": [
    "abalone = fetch_ucirepo(id=1) \n",
    "  \n",
    "# data (as pandas dataframes) \n",
    "X = abalone.data.features \n",
    "y = abalone.data.targets "
   ],
   "id": "57bffb224e54fcc4",
   "outputs": [],
   "execution_count": 2
  },
  {
   "metadata": {},
   "cell_type": "markdown",
   "source": [
    "#### Data Preprocessing  \n",
    "The Dataset imports as a nested dictionary.  \n",
    "First, we extract what we need into a new data frame.  \n",
    "Then, we Transform the 'Sex' value into an integer.  \n",
    "Finally, we scale the data to make each feature of equal importance."
   ],
   "id": "5102bd76639e0a6f"
  },
  {
   "metadata": {
    "ExecuteTime": {
     "end_time": "2024-10-29T19:33:16.828656Z",
     "start_time": "2024-10-29T19:33:16.816009Z"
    }
   },
   "cell_type": "code",
   "source": [
    "abalone_df = abalone['data']['features']\n",
    "\n",
    "le = LabelEncoder()\n",
    "abalone_df.loc[:, 'Sex'] = le.fit_transform(abalone_df['Sex']) #M = 2, F = 0, I = 1\n",
    "\n",
    "scaler = StandardScaler()\n",
    "abalone_scaled = scaler.fit_transform(abalone_df)\n",
    "abalone_scaled_df = pd.DataFrame(abalone_scaled, columns=abalone_df.columns)\n",
    "\n",
    "#print(abalone_scaled_df)"
   ],
   "id": "503a701a33c7f897",
   "outputs": [],
   "execution_count": 3
  },
  {
   "metadata": {},
   "cell_type": "markdown",
   "source": [
    "#### Perform K-Means Clustering  \n",
    "Self-Implemented without using an external k-means library\n"
   ],
   "id": "b2d48087b7131fa0"
  },
  {
   "metadata": {
    "ExecuteTime": {
     "end_time": "2024-10-29T19:37:42.768555Z",
     "start_time": "2024-10-29T19:37:42.762395Z"
    }
   },
   "cell_type": "code",
   "source": [
    "def k_means(data, k, iterations):\n",
    "    #Randomly initialize k centroids\n",
    "    centroids = []\n",
    "    random_indices = np.random.choice(data.shape[0], size=k, replace=False)\n",
    "    centroids = data[random_indices]\n",
    "    \n",
    "    #Repeat the clustering for the number of iterations specified\n",
    "    for i in range(iterations):\n",
    "        \n",
    "        #Calculate the distance from each point to each centroid\n",
    "        for j in range(k):\n",
    "            \n",
    "            for l in range(data.shape[1]):\n",
    "                closest = euclidian_distance(centroids[j], data[l])\n",
    "        \n",
    "\n",
    "def euclidian_distance(record_a, record_b):\n",
    "    e_distance = np.linalg.norm(record_a - record_b)\n",
    "    \n",
    "    return e_distance\n",
    "        \n",
    "            "
   ],
   "id": "b0f9d4ce70f3f9cb",
   "outputs": [
    {
     "ename": "IndentationError",
     "evalue": "expected an indented block after 'for' statement on line 8 (846183389.py, line 12)",
     "output_type": "error",
     "traceback": [
      "\u001B[1;36m  Cell \u001B[1;32mIn[4], line 12\u001B[1;36m\u001B[0m\n\u001B[1;33m    def euclidian_distance(record_a, record_b):\u001B[0m\n\u001B[1;37m                                               ^\u001B[0m\n\u001B[1;31mIndentationError\u001B[0m\u001B[1;31m:\u001B[0m expected an indented block after 'for' statement on line 8\n"
     ]
    }
   ],
   "execution_count": 4
  },
  {
   "metadata": {},
   "cell_type": "markdown",
   "source": "",
   "id": "950982155e4fcc6e"
  }
 ],
 "metadata": {
  "kernelspec": {
   "display_name": "Python 3",
   "language": "python",
   "name": "python3"
  },
  "language_info": {
   "codemirror_mode": {
    "name": "ipython",
    "version": 2
   },
   "file_extension": ".py",
   "mimetype": "text/x-python",
   "name": "python",
   "nbconvert_exporter": "python",
   "pygments_lexer": "ipython2",
   "version": "2.7.6"
  }
 },
 "nbformat": 4,
 "nbformat_minor": 5
}
