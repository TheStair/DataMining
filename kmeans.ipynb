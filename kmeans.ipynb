{
 "cells": [
  {
   "cell_type": "markdown",
   "id": "702440266156d1b4",
   "metadata": {},
   "source": [
    "# Comp 5130 Project\n",
    "\n",
    "# K-Means Clustering\n",
    "\n",
    "## Authors: Kevin Dong, Maci Hadley, Marshall Nelson\n",
    "\n",
    "### Dr. Yang Zhou\n"
   ]
  },
  {
   "cell_type": "code",
   "execution_count": 1,
   "id": "65f43fc7",
   "metadata": {},
   "outputs": [
    {
     "ename": "SyntaxError",
     "evalue": "invalid syntax (4085793766.py, line 1)",
     "output_type": "error",
     "traceback": [
      "\u001b[0;36m  Cell \u001b[0;32mIn[1], line 1\u001b[0;36m\u001b[0m\n\u001b[0;31m    git config --global user.email \"kevindong7@gmail.com\"\u001b[0m\n\u001b[0m        ^\u001b[0m\n\u001b[0;31mSyntaxError\u001b[0m\u001b[0;31m:\u001b[0m invalid syntax\n"
     ]
    }
   ],
   "source": [
    "git config --global user.email \"kevindong7@gmail.com\"\n",
    "git config --global user.name \"kevintop101\""
   ]
  },
  {
   "cell_type": "code",
   "execution_count": null,
   "id": "503a701a33c7f897",
   "metadata": {},
   "outputs": [],
   "source": []
  }
 ],
 "metadata": {
  "kernelspec": {
   "display_name": "Python 3",
   "language": "python",
   "name": "python3"
  },
  "language_info": {
   "codemirror_mode": {
    "name": "ipython",
    "version": 3
   },
   "file_extension": ".py",
   "mimetype": "text/x-python",
   "name": "python",
   "nbconvert_exporter": "python",
   "pygments_lexer": "ipython3",
   "version": "3.9.7"
  }
 },
 "nbformat": 4,
 "nbformat_minor": 5
}
