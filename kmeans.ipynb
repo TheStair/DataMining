{
 "cells": [
  {
   "metadata": {},
   "cell_type": "markdown",
   "source": [
    "# Comp 5130 Project\n",
    "\n",
    "# K-Means Clustering\n",
    "\n",
    "## Authors: Kevin Dong, Maci Hadley, Marshall Nelson\n",
    "\n",
    "### Dr. Yang Zhou\n"
   ],
   "id": "702440266156d1b4"
  },
  {
   "metadata": {},
   "cell_type": "code",
   "outputs": [],
   "execution_count": null,
   "source": "",
   "id": "503a701a33c7f897"
  }
 ],
 "metadata": {
  "kernelspec": {
   "display_name": "Python 3",
   "language": "python",
   "name": "python3"
  },
  "language_info": {
   "codemirror_mode": {
    "name": "ipython",
    "version": 2
   },
   "file_extension": ".py",
   "mimetype": "text/x-python",
   "name": "python",
   "nbconvert_exporter": "python",
   "pygments_lexer": "ipython2",
   "version": "2.7.6"
  }
 },
 "nbformat": 4,
 "nbformat_minor": 5
}
