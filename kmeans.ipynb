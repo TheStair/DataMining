{
 "cells": [
  {
   "metadata": {},
   "cell_type": "markdown",
   "source": [
    "# Comp 5130 Project\n",
    "\n",
    "# K-Means Clustering\n",
    "\n",
    "## Authors: Kevin Dong, Maci Hadley, Marshall Nelson\n",
    "\n",
    "### Dr. Yang Zhou\n"
   ],
   "id": "702440266156d1b4"
  },
  {
   "metadata": {},
   "cell_type": "markdown",
   "source": "#### Imports",
   "id": "41028782b631f7eb"
  },
  {
   "metadata": {
    "ExecuteTime": {
     "end_time": "2024-11-12T15:51:33.451306Z",
     "start_time": "2024-11-12T15:51:32.490737Z"
    }
   },
   "cell_type": "code",
   "source": [
    "import sys\n",
    "import numpy as np\n",
    "import matplotlib.pyplot as plt\n",
    "import pandas as pd\n",
    "import random as random\n",
    "\n"
   ],
   "id": "40a8996047eeae16",
   "outputs": [],
   "execution_count": 2
  },
  {
   "metadata": {},
   "cell_type": "markdown",
   "source": [
    "#### Load Dataset  \n",
    "We are using the simple circles dataset from UCIrvine"
   ],
   "id": "24d874d810103a19"
  },
  {
   "metadata": {
    "ExecuteTime": {
     "end_time": "2024-11-12T16:18:29.345336Z",
     "start_time": "2024-11-12T16:18:29.338961Z"
    }
   },
   "cell_type": "code",
   "source": [
    " # Define the file to open\n",
    "file_path = 'circles.txt'\n",
    "\n",
    "# Open the file and read coordinates\n",
    "coordinates = np.loadtxt(file_path, delimiter=',', skiprows=1, usecols=(0, 1))\n",
    "\n",
    "# Print out the list of coordinates\n",
    "# print(\"Points:\", coordinates)"
   ],
   "id": "57bffb224e54fcc4",
   "outputs": [
    {
     "name": "stdout",
     "output_type": "stream",
     "text": [
      "Points: [[  3.15676 116.12252]\n",
      " [ 16.14436  16.8166 ]\n",
      " [100.31212  64.99025]\n",
      " ...\n",
      " [ 81.18879 184.85662]\n",
      " [116.47674 116.45223]\n",
      " [120.84808  75.07245]]\n"
     ]
    }
   ],
   "execution_count": 27
  },
  {
   "metadata": {},
   "cell_type": "markdown",
   "source": [
    "#### Define K-Means Clustering Function\n",
    "Self-Implemented without using an external k-means library\n"
   ],
   "id": "b2d48087b7131fa0"
  },
  {
   "metadata": {
    "ExecuteTime": {
     "end_time": "2024-11-12T16:19:04.832227Z",
     "start_time": "2024-11-12T16:19:04.827426Z"
    }
   },
   "cell_type": "code",
   "source": [
    "def initialize_centroids(data, k):\n",
    "    indices = np.random.choice(len(data), k, replace=False)\n",
    "    centroids = np.array(data[indices])\n",
    "    return centroids\n",
    "\n",
    "def assign_clusters(data, centroids):\n",
    "    # Assign each point to the nearest centroid\n",
    "    clusters = []\n",
    "    for point in data:\n",
    "        distances = np.linalg.norm(point - centroids, axis=1)\n",
    "        nearest_centroid = np.argmin(distances)\n",
    "        clusters.append(nearest_centroid)\n",
    "    return np.array(clusters)\n",
    "\n",
    "def update_centroids(data, clusters, k):\n",
    "    # Calculate new centroids as the mean of assigned points\n",
    "    new_centroids = []\n",
    "    for i in range(k):\n",
    "        cluster_points = data[clusters == i]\n",
    "        if len(cluster_points) > 0:\n",
    "            new_centroids.append(cluster_points.mean(axis=0))\n",
    "        else:\n",
    "            # If a cluster has no points, reinitialize its centroid randomly\n",
    "            new_centroids.append(data[np.random.choice(len(data))])\n",
    "    return np.array(new_centroids)\n",
    "\n",
    "def euclidian_distance(record_a, record_b):\n",
    "    difference = (record_a - record_b)\n",
    "    e_distance = np.sqrt(np.sum(np.square(difference)))\n",
    "    \n",
    "    return e_distance\n",
    "        \n",
    "            "
   ],
   "id": "b0f9d4ce70f3f9cb",
   "outputs": [],
   "execution_count": 31
  },
  {
   "metadata": {},
   "cell_type": "markdown",
   "source": "#### Perform K-Means on the dataset  ",
   "id": "950982155e4fcc6e"
  },
  {
   "metadata": {
    "ExecuteTime": {
     "end_time": "2024-11-12T16:19:16.199919Z",
     "start_time": "2024-11-12T16:19:16.195670Z"
    }
   },
   "cell_type": "code",
   "source": [
    "def kmeans(data, k, max_iters=100, tol=1e-4):\n",
    "    # Initialize centroids\n",
    "    centroids = initialize_centroids(data, k)\n",
    "    for i in range(max_iters):\n",
    "        # Assign clusters\n",
    "        clusters = assign_clusters(data, centroids)\n",
    "        # Update centroids\n",
    "        new_centroids = update_centroids(data, clusters, k)\n",
    "        # Check for convergence\n",
    "        if np.all(np.abs(new_centroids - centroids) < tol):\n",
    "            print(f\"Converged after {i+1} iterations.\")\n",
    "            break\n",
    "        centroids = new_centroids\n",
    "    return clusters, centroids"
   ],
   "id": "e36348b8a83f3689",
   "outputs": [],
   "execution_count": 32
  },
  {
   "metadata": {
    "ExecuteTime": {
     "end_time": "2024-11-12T16:23:58.004477Z",
     "start_time": "2024-11-12T16:23:57.113013Z"
    }
   },
   "cell_type": "code",
   "source": [
    "k = 100\n",
    "clusters, centroids = kmeans(coordinates, k)"
   ],
   "id": "34f64dde1240af15",
   "outputs": [
    {
     "name": "stdout",
     "output_type": "stream",
     "text": [
      "Converged after 15 iterations.\n"
     ]
    }
   ],
   "execution_count": 34
  },
  {
   "metadata": {},
   "cell_type": "code",
   "outputs": [],
   "execution_count": null,
   "source": "",
   "id": "a4fd5b2f92472a39"
  }
 ],
 "metadata": {
  "kernelspec": {
   "display_name": "Python 3",
   "language": "python",
   "name": "python3"
  },
  "language_info": {
   "codemirror_mode": {
    "name": "ipython",
    "version": 2
   },
   "file_extension": ".py",
   "mimetype": "text/x-python",
   "name": "python",
   "nbconvert_exporter": "python",
   "pygments_lexer": "ipython2",
   "version": "2.7.6"
  }
 },
 "nbformat": 4,
 "nbformat_minor": 5
}
